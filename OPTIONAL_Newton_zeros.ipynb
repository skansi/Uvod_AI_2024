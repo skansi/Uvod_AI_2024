{
 "cells": [
  {
   "cell_type": "markdown",
   "id": "2c3c6b39",
   "metadata": {},
   "source": [
    "# Newton's method of finding zeros"
   ]
  },
  {
   "cell_type": "code",
   "execution_count": null,
   "id": "0eea1ba1",
   "metadata": {},
   "outputs": [],
   "source": [
    "import numpy as np\n",
    "import matplotlib.pyplot as plt\n",
    "\n",
    "x = np.linspace(-2,2,100)\n",
    "y = -0.5 * 9.8 * x ** 2 + 2 * x + 1"
   ]
  },
  {
   "cell_type": "code",
   "execution_count": null,
   "id": "54a591e3",
   "metadata": {},
   "outputs": [],
   "source": [
    "plt.axhline(y=0, color=\"k\")\n",
    "plt.axvline(x=0, color=\"k\")\n",
    "plt.grid()\n",
    "plt.plot(x, y)"
   ]
  },
  {
   "cell_type": "code",
   "execution_count": null,
   "id": "8c11688f",
   "metadata": {},
   "outputs": [],
   "source": [
    "x_old = -1\n",
    "\n",
    "def func(x):\n",
    "    return -0.5 * 9.8 * x ** 2 + 2 * x + 1\n",
    "def derivative(x):\n",
    "    return -0.5 * 9.8 * 2 * x + 2\n",
    "\n",
    "while True:\n",
    "    x_new = x_old - (func(x_old) / derivative(x_old))\n",
    "    print(x_new)\n",
    "    if np.abs(x_new - x_old) < 1e-10:\n",
    "        break\n",
    "    x_old = x_new\n",
    "    \n",
    "print(\"answer:\", x_new)\n",
    "answer1= x_new"
   ]
  },
  {
   "cell_type": "code",
   "execution_count": null,
   "id": "cb70ad01",
   "metadata": {},
   "outputs": [],
   "source": [
    "# check the answer\n",
    "\n",
    "a = -0.5 * 9.8\n",
    "b = 2\n",
    "c = 1\n",
    "\n",
    "discriminant = b * b - 4 * a * c\n",
    "true_answer1 = (-b + np.sqrt(discriminant))/ (2*a)\n",
    "true_answer2 = (-b - np.sqrt(discriminant))/ (2*a)\n",
    "print(\"Newton1\", answer1)\n",
    "print(\"True1\", true_answer1)"
   ]
  },
  {
   "cell_type": "code",
   "execution_count": null,
   "id": "11d28d50",
   "metadata": {},
   "outputs": [],
   "source": [
    "# how to use it to fin min max\n",
    "x_old = -1\n",
    "\n",
    "def func(x):\n",
    "    return -0.5 * 9.8 * x ** 2 + 2 * x + 1\n",
    "def derivative(x):\n",
    "    return -0.5 * 9.8 * 2 * x + 2\n",
    "def derivative2(x):\n",
    "    return -0.5 * 9.8 * 2 \n",
    "\n",
    "while True:\n",
    "    x_new = x_old - (derivative(x_old) / derivative2(x_old))\n",
    "    print(x_new)\n",
    "    if np.abs(x_new - x_old) < 1e-10:\n",
    "        break\n",
    "    x_old = x_new\n",
    "    \n",
    "print(\"answer:\", x_new)\n",
    "answer3= x_new\n",
    "\n",
    "x_opt = 2/ (0.5*9.8*2)\n",
    "print(\"opt:\", x_opt)\n"
   ]
  },
  {
   "cell_type": "code",
   "execution_count": null,
   "id": "1bea2c36",
   "metadata": {},
   "outputs": [],
   "source": [
    "plt.axhline(y=0, color=\"k\")\n",
    "plt.axvline(x=0, color=\"k\")\n",
    "plt.grid()\n",
    "plt.scatter([x_new],[func(x_new)],c=\"red\")\n",
    "plt.plot(x, y)"
   ]
  },
  {
   "cell_type": "code",
   "execution_count": null,
   "id": "a8421a30",
   "metadata": {},
   "outputs": [],
   "source": []
  }
 ],
 "metadata": {
  "kernelspec": {
   "display_name": "Python 3 (ipykernel)",
   "language": "python",
   "name": "python3"
  },
  "language_info": {
   "codemirror_mode": {
    "name": "ipython",
    "version": 3
   },
   "file_extension": ".py",
   "mimetype": "text/x-python",
   "name": "python",
   "nbconvert_exporter": "python",
   "pygments_lexer": "ipython3",
   "version": "3.9.13"
  }
 },
 "nbformat": 4,
 "nbformat_minor": 5
}
