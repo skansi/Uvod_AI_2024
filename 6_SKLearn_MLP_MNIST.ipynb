{
 "cells": [
  {
   "cell_type": "markdown",
   "metadata": {},
   "source": [
    "# MNIST na tri nacina\n",
    "\n",
    "## Napomena:\n",
    "Da bi ovaj notebook ispravno radio, morate u isti folder skinuti i fileove:\n",
    "* mnist_train.csv\n",
    "* mnist_test.csv\n",
    "\n",
    "sa https://www.kaggle.com/datasets/oddrationale/mnist-in-csv\n",
    "\n",
    "\n",
    "## 1. Priprema podataka\n",
    "\n",
    "Prvo ćemo učitati podatke. Da biste to napravili, kliknete na sljedeću ćeliju (gdje piše \"**In[   ]**\"), i stisnete *Shift+Enter(Return)*. Pričekajte dok piše \"**In[\\*]**\" i dok ne vidite \"**In[1]**\", tada je izračun gotov. Kao rezultat biste trebali dobiti prvih pet redaka tablice."
   ]
  },
  {
   "cell_type": "code",
   "execution_count": null,
   "metadata": {},
   "outputs": [],
   "source": [
    "import pandas as pd\n",
    "podatci_train = pd.read_csv(\"mnist_train.csv\")\n",
    "podatci_train.head()"
   ]
  },
  {
   "cell_type": "markdown",
   "metadata": {},
   "source": [
    "Svaki redak predstavlja jednu sliku iz MNISTa, a to je jedan 28x28 broj, pretvoren u vektor. Crna je 255, bijela je 0."
   ]
  },
  {
   "cell_type": "code",
   "execution_count": null,
   "metadata": {},
   "outputs": [],
   "source": [
    "print(list(podatci_train.iloc[1]))"
   ]
  },
  {
   "cell_type": "markdown",
   "metadata": {},
   "source": [
    "### 1.1. Klasifikator\n",
    "Sada ucitavamo klasifikator, iz modula SK Learn"
   ]
  },
  {
   "cell_type": "code",
   "execution_count": null,
   "metadata": {},
   "outputs": [],
   "source": [
    "from sklearn.neural_network import MLPClassifier"
   ]
  },
  {
   "cell_type": "markdown",
   "metadata": {},
   "source": [
    "Kratak komentar:\n",
    "\n",
    "* Prvi redak služi za učitavanje dodatnog modula \"Pandas\" koji služi kao tablica (slično Excelu),\n",
    "* Drugi redak učitava dodatni Python modul (sklearn) za njegov podmodul (MLP) za umjetnu neuronsku mrezu,\n",
    "\n",
    "Sljedeći korak je da učitamo podatke (Shift+Enter na donju ćeliju):"
   ]
  },
  {
   "cell_type": "code",
   "execution_count": null,
   "metadata": {},
   "outputs": [],
   "source": [
    "podatci_train = pd.read_csv(\"mnist_train.csv\", index_col=False)\n",
    "podatci_train = podatci_train.head(5000)"
   ]
  },
  {
   "cell_type": "code",
   "execution_count": null,
   "metadata": {},
   "outputs": [],
   "source": [
    "podatci = podatci_train.drop('label',axis=1).to_numpy()#values\n",
    "targeti = podatci_train[[\"label\"]].to_numpy()"
   ]
  },
  {
   "cell_type": "code",
   "execution_count": null,
   "metadata": {},
   "outputs": [],
   "source": [
    "podatci_train"
   ]
  },
  {
   "cell_type": "code",
   "execution_count": null,
   "metadata": {},
   "outputs": [],
   "source": [
    "clf = MLPClassifier(hidden_layer_sizes=(1000,), activation='logistic', max_iter=500, solver=\"sgd\").fit(podatci, targeti.ravel())"
   ]
  },
  {
   "cell_type": "markdown",
   "metadata": {},
   "source": [
    "### 1.3. Konfuzijska matrica: preciznost i recall\n",
    "\n"
   ]
  },
  {
   "cell_type": "code",
   "execution_count": null,
   "metadata": {},
   "outputs": [],
   "source": [
    "podatci_test = pd.read_csv(\"mnist_test.csv\", index_col=False)\n",
    "podatci_test = podatci_test.head(1000)\n",
    "novi = podatci_test.drop('label',axis=1).to_numpy()#values\n",
    "print(novi.shape)\n",
    "test_targeti = podatci_test[[\"label\"]].to_numpy()"
   ]
  },
  {
   "cell_type": "code",
   "execution_count": null,
   "metadata": {},
   "outputs": [],
   "source": [
    "rez = clf.predict(novi)\n",
    "#print(rez)"
   ]
  },
  {
   "cell_type": "code",
   "execution_count": null,
   "metadata": {},
   "outputs": [],
   "source": [
    "import matplotlib.pyplot as plt\n",
    "from sklearn.metrics import confusion_matrix, ConfusionMatrixDisplay\n",
    "cm = confusion_matrix(test_targeti.ravel(), rez, labels=clf.classes_)\n",
    "disp = ConfusionMatrixDisplay(confusion_matrix=cm,\n",
    "                              display_labels=clf.classes_)\n",
    "disp.plot()\n",
    "plt.show()"
   ]
  },
  {
   "cell_type": "markdown",
   "metadata": {},
   "source": [
    "### 1.4. Klasifikacija vlastorucno napisanog broja"
   ]
  },
  {
   "cell_type": "code",
   "execution_count": null,
   "metadata": {},
   "outputs": [],
   "source": [
    "from PIL import Image\n",
    "import numpy as np\n",
    "\n",
    "img = Image.open('i4.jpg')\n",
    "\n",
    "#print(img.format)\n",
    "#print(img.size)\n",
    "#print(img.mode)\n",
    "arr=np.asarray(img)\n",
    "arr.shape\n",
    "fin=np.concatenate(arr)\n",
    "fin = fin.reshape(1,len(fin))\n",
    "#print(fin.shape)\n",
    "\n",
    "rez_novi = clf.predict(fin)\n",
    "print(rez_novi)\n"
   ]
  },
  {
   "cell_type": "markdown",
   "metadata": {},
   "source": [
    "## 2. Tensorflow, Keras: Konvolucijska neuronska mreza LeNet"
   ]
  },
  {
   "cell_type": "code",
   "execution_count": null,
   "metadata": {},
   "outputs": [],
   "source": []
  }
 ],
 "metadata": {
  "kernelspec": {
   "display_name": "Python 3 (ipykernel)",
   "language": "python",
   "name": "python3"
  },
  "language_info": {
   "codemirror_mode": {
    "name": "ipython",
    "version": 3
   },
   "file_extension": ".py",
   "mimetype": "text/x-python",
   "name": "python",
   "nbconvert_exporter": "python",
   "pygments_lexer": "ipython3",
   "version": "3.9.13"
  }
 },
 "nbformat": 4,
 "nbformat_minor": 1
}
