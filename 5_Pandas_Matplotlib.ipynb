{
 "cells": [
  {
   "cell_type": "markdown",
   "metadata": {},
   "source": [
    "<img src=\"hs.png\" width=\"200\">"
   ]
  },
  {
   "cell_type": "markdown",
   "metadata": {},
   "source": [
    "# Otvaranje i zatvaranje datoteka\n",
    "\n",
    "U ovom ćemo notebooku naučiti kako otvarati i zatvarati fileove u Pythonu. Svako programiranje je u svojoj biti *parsing*: neki file se otvori, raskomadaju se podatci i modificiraju, sasatave se u neki oblik, i zatim se spreme u neki drugi file (ili u isti tako da prebrišu stare vrijednosti). Dobro je misliti o svakom zadatku u programiranju na ovaj način.\n",
    "\n",
    "Treba nam neki početni file kojeg ćemo generirati sljedećim kodom:"
   ]
  },
  {
   "cell_type": "code",
   "execution_count": null,
   "metadata": {},
   "outputs": [],
   "source": [
    "prvaDatoteka=open(\"prviPodatci.json\",\"w\")\n",
    "sadrzaj='[{\"ime\": \"Ana\",\"visina\":156}, {\"ime\": \"Branimir\", \"visina\": 189}, {\"ime\": \"Coco\", \"visina\": 176}]'\n",
    "prvaDatoteka.writelines(sadrzaj)\n",
    "prvaDatoteka.close()"
   ]
  },
  {
   "cell_type": "markdown",
   "metadata": {},
   "source": [
    "Ovime smo napravili sljedeće: \n",
    "\n",
    "* inicijalizirali u varijablu **prvaDatoteka** novi file s imenom **prviPodatci.json**, i otvorili ga za pisanje (to je **'w'**).\n",
    "* u varijablu **sadrzaj** pohranili string (koji je nastao iz validnog JSON-a odnosno Python rječnika-- to je dio između '...')\n",
    "* u **prvaDatoteka** smo upisali **sadrzaj**\n",
    "* zatvorili smo file **prvaDatoteka**\n",
    "\n",
    "Sada možemo učitati **prviPodatci.json** da vidimo da smo dobro napravili sve (napomena: ovi svi fileovi moraju biti u istom direktoriju kao i ovaj notebook. Ako se želi neki drugi direktorij, mora se specificirati putanja, ali tu pripazite oko specifikacije Windows/Linux puteva)"
   ]
  },
  {
   "cell_type": "code",
   "execution_count": null,
   "metadata": {},
   "outputs": [],
   "source": [
    "otvoreniFile=open(\"prviPodatci.json\",\"r\")\n",
    "sadrzajFilea=otvoreniFile.readlines()\n",
    "print(sadrzajFilea)"
   ]
  },
  {
   "cell_type": "markdown",
   "metadata": {},
   "source": [
    "Uočimo da smo dobili ne samo početni JSON, nego listu koja sadrži taj JSON ali kao string. Lista je nastala zato što smo koristili metodu **readlines** koja svaki redak u fileu pročita kao string i onda te stringove puni u listu. Ovo je inače vrlo stabilna i korisna metoda, ali nam ovdje uzrokuje komplikacije koje ćemo morati ručno izbjeći (naš file ima samo jednu liniju, što nije uobičajeno, a ta linija je JSON kojeg želimo prepoznati kao dictionary, što takoder nije prečesto)"
   ]
  },
  {
   "cell_type": "code",
   "execution_count": null,
   "metadata": {},
   "outputs": [],
   "source": [
    "otvoreniFile=open(\"prviPodatci.json\",\"r\")\n",
    "sadrzajFilea=otvoreniFile.readlines()\n",
    "print(eval(sadrzajFilea[0]))"
   ]
  },
  {
   "cell_type": "markdown",
   "metadata": {},
   "source": [
    "Uočimo da smo za čitanje koristili **\"r\"** prilikom otvaranja. Sada ćemo napraviti nešto složenije. Želimo za početak naći najvišlju osobu među podatcima koje imamo:"
   ]
  },
  {
   "cell_type": "code",
   "execution_count": null,
   "metadata": {},
   "outputs": [],
   "source": [
    "#definicija funkcije koja bira maksimum po visini, a vraca ime (a ne visinu) te osobe (odnosno tog clana JSONa)\n",
    "def najvislji(pod):\n",
    "    visina=[x[\"visina\"] for x in pod]\n",
    "    ime=[x[\"ime\"] for x in pod]\n",
    "    clan=max(visina)\n",
    "    \n",
    "    lokacija=visina.index(clan) \n",
    "    \n",
    "    return ime[lokacija]\n",
    "\n",
    "#otvaranje filea\n",
    "otvoreniFile=open(\"prviPodatci.json\",\"r\")\n",
    "sadrzajFilea=otvoreniFile.readlines()\n",
    "podatci=eval(sadrzajFilea[0])\n",
    "\n",
    "najvisljaOsoba=najvislji(podatci)\n",
    " \n",
    "print(najvisljaOsoba)"
   ]
  },
  {
   "cell_type": "markdown",
   "metadata": {},
   "source": [
    "Sada si uzimamo novi zadatak, i želimo stvoriti novi file sličan početnom, ali sa visinama u inchima (1 inch = 2.5 cm):"
   ]
  },
  {
   "cell_type": "code",
   "execution_count": null,
   "metadata": {},
   "outputs": [],
   "source": [
    "#---------GLOBALNE VARIJABLE-----------\n",
    "inch=2.5\n",
    "#--------------------------------------\n",
    "\n",
    "#Otvaranje prvog filea\n",
    "fh=open(\"prviPodatci.json\",\"r\")\n",
    "sadrzaj=fh.readlines()\n",
    "fh.close()\n",
    "sadrzaj1=eval(sadrzaj[0])\n",
    "\n",
    "#Parsing, transformacija u inche i ponovno sastavljanje novog JSONa\n",
    "rezultat=[]\n",
    "for i in sadrzaj1:\n",
    "    staraVis=i[\"visina\"]#Ovdje se u varijablu staraVis ucitava vrijednost uz kljuc \"visina\" pojedinog clana i iz pocetnog JSONa\n",
    "    novaVis=staraVis/inch\n",
    "    i[\"visina\"]=novaVis#Ovdje se uz kljuc \"visina\" u clan i stavlja vrijednost koja je pohranjena u varijablu novaVis\n",
    "    rezultat.append(i)    \n",
    "\n",
    "#zapisivanje novog JSONa u novi file    \n",
    "finrez=[str(rezultat)]\n",
    "fh=open(\"noviPodatci.json\",\"w\")\n",
    "fh.writelines(finrez)\n",
    "fh.close()"
   ]
  },
  {
   "cell_type": "markdown",
   "metadata": {},
   "source": [
    "Sada trebamo prekontrolirati je li file **noviPodatci.json** dobro napravljen, pa ćemo ga učitati i isprintati:"
   ]
  },
  {
   "cell_type": "code",
   "execution_count": null,
   "metadata": {},
   "outputs": [],
   "source": [
    "otvoreniFile=open(\"noviPodatci.json\",\"r\")\n",
    "sadrzajFilea=otvoreniFile.readlines()\n",
    "print(eval(sadrzajFilea[0]))"
   ]
  },
  {
   "cell_type": "markdown",
   "metadata": {},
   "source": [
    "# Pandas i otvaranje CSV-a kao DataFrame\n",
    "\n",
    "U prethodnom dijelu smo vidjeli kako možemo otvoriti i pohraniti file u čistom Pythonu, a sad ćemo vidjeti kako CSV (ili JSON) file možemo učitati uz pomoć Pandas paketa. Pandas učitava dobro formatirane fileove (poput CSV ili JSON), ili pak Python liste i rječnike u svoj interni format koji se naziva *dataframe*. Dataframe je tablica u kojoj se može formatirati podatke, dodavati ili brisati stupce illi retke, ili pak pretvoriti u neku drugu strukturu podataka poput Numpy array ili listu.\n",
    "\n",
    "Podatke iz CSV-a učitavamo na sljedeći način, pri čemu prvo učitavamo paket Pandas. Paket će ostati učitani dok je kod/notebook aktivan, pa ga zato treba učitati samo jednom unutar nekog filea s kodom (isto vrijedi za sve pakete).\n"
   ]
  },
  {
   "cell_type": "code",
   "execution_count": null,
   "metadata": {},
   "outputs": [],
   "source": [
    "import pandas as pd\n",
    "podatci = pd.read_csv(\"podatci_s.csv\")"
   ]
  },
  {
   "cell_type": "markdown",
   "metadata": {},
   "source": [
    "Ako želimo ispisati prvih 7 redaka, koristimo sljedeću naredbu"
   ]
  },
  {
   "cell_type": "code",
   "execution_count": null,
   "metadata": {},
   "outputs": [],
   "source": [
    "podatci.head(7)"
   ]
  },
  {
   "cell_type": "markdown",
   "metadata": {},
   "source": [
    "Ako želimo izbaciti neki stupac, to radimo na sljedeći način"
   ]
  },
  {
   "cell_type": "code",
   "execution_count": null,
   "metadata": {},
   "outputs": [],
   "source": [
    "podatci_cisti = podatci.drop('customer_id',axis=1)\n",
    "podatci_cisti.head()"
   ]
  },
  {
   "cell_type": "markdown",
   "metadata": {},
   "source": [
    "Ako od postojećeg dataframea želimo stvoriti novi koji ima samo AGE i PRICE, koristimo sljedeću sintaksu:"
   ]
  },
  {
   "cell_type": "code",
   "execution_count": null,
   "metadata": {},
   "outputs": [],
   "source": [
    "svojstva = podatci_cisti[[\"age\",\"price\"]]\n",
    "svojstva.head()"
   ]
  },
  {
   "cell_type": "markdown",
   "metadata": {},
   "source": [
    "## Pandas u Numpy\n",
    "Načelno, svi Pandas dataframeovi su ujedno i Numpy arrayevi, no mogu se i direktno konvertirati:"
   ]
  },
  {
   "cell_type": "code",
   "execution_count": null,
   "metadata": {},
   "outputs": [],
   "source": [
    "# Stvorimo neki testni Dataframe\n",
    "testni_df = pd.DataFrame(data={'Prvi': [1, 2, 3], 'Drugi': [4, 5, 6], 'Treci': [7, 8, 9]}, \n",
    "                  index=['a', 'b', 'c'])"
   ]
  },
  {
   "cell_type": "markdown",
   "metadata": {},
   "source": [
    "Ako treba konvertirati cijeli dataframe:"
   ]
  },
  {
   "cell_type": "code",
   "execution_count": null,
   "metadata": {},
   "outputs": [],
   "source": [
    "testni_df.to_numpy()"
   ]
  },
  {
   "cell_type": "markdown",
   "metadata": {},
   "source": [
    "Ako treba konvertirati određene stupce"
   ]
  },
  {
   "cell_type": "code",
   "execution_count": null,
   "metadata": {},
   "outputs": [],
   "source": [
    "testni_df[['Prvi', 'Treci']].to_numpy()"
   ]
  },
  {
   "cell_type": "markdown",
   "metadata": {},
   "source": [
    "## Numpy u Pandas\n",
    "Ako treba pretvoriti Numpy array u Pandas dataframe, to radimo ovako:"
   ]
  },
  {
   "cell_type": "code",
   "execution_count": null,
   "metadata": {},
   "outputs": [],
   "source": [
    "import numpy as np\n",
    "import pandas as pd\n",
    "moj_array = np.array([[11, 22, 33], [44, 55, 66]])\n",
    "novi_df = pd.DataFrame(moj_array, columns=['stupac_A', 'stupac_B', 'stupac_C'], index=['predmet_1', 'predmet_2'])\n",
    "novi_df"
   ]
  },
  {
   "cell_type": "markdown",
   "metadata": {},
   "source": [
    "# Crtanje grafova\n",
    "\n",
    "U Pythonu se grafovi crtaju najčešće uz pomoć paketa Matplotlib, koji je kao i Pandas dio Anacoda distribucije. Prvo ćemo učitati Numpy i Matplotlib:"
   ]
  },
  {
   "cell_type": "code",
   "execution_count": null,
   "metadata": {},
   "outputs": [],
   "source": [
    "import numpy as np\n",
    "import matplotlib.pyplot as plt"
   ]
  },
  {
   "cell_type": "markdown",
   "metadata": {},
   "source": [
    "Zatim cemo definirati dvije stvari, funkciju i prostor varijable. Za funkciju možemo uzeti bilo koju funkciju, mi ćemo uzeti:\n",
    "\n",
    "$$f(x) = 2x^3 + 3$$\n",
    "\n",
    "Prostor varijable govori Pythonu od koje do koje vrijednosti $x$ evaluira funkciju $f(x)$. Mi ćemo uzeti od -10 do 10, s time da treba imati na umu da u Pythonu treba prvo definirati prostor varijable, a zatim funkciju, jer će se inače Python buniti da je $x$ nedefiniran."
   ]
  },
  {
   "cell_type": "code",
   "execution_count": null,
   "metadata": {},
   "outputs": [],
   "source": [
    "x = np.linspace(-10,10,200)\n",
    "fx = 2 * x**3 + 3"
   ]
  },
  {
   "cell_type": "code",
   "execution_count": null,
   "metadata": {},
   "outputs": [],
   "source": [
    "plt.axhline(y=0, color=\"k\")\n",
    "plt.axvline(x=0, color=\"k\")\n",
    "plt.grid()\n",
    "plt.plot(x,fx)"
   ]
  },
  {
   "cell_type": "markdown",
   "metadata": {},
   "source": [
    "Ako trebamo više funkcija radimo sljedeće:"
   ]
  },
  {
   "cell_type": "code",
   "execution_count": null,
   "metadata": {},
   "outputs": [],
   "source": [
    "x = np.linspace(-10,10,200) #ovaj 200 znači koliko točaka između dvije disketne vrijednosti x će printati. \n",
    "#                            Isprobajte samo sa tangensom 10 i 100000. \n",
    "fx = x**2 - 10\n",
    "fx2 = np.log(x) + np.pi\n",
    "fx3 = np.sin(x)*x\n",
    "fx4 = np.tan(x)\n",
    "\n",
    "\n",
    "\n",
    "plt.axhline(y=0, color=\"k\")\n",
    "plt.axvline(x=0, color=\"k\")\n",
    "plt.grid()\n",
    "plt.plot(x,fx, label=\"kvadratna\")\n",
    "plt.plot(x,fx2, label=\"prirodno-logaritamska\")\n",
    "plt.plot(x,fx3, label=\"sinus\")\n",
    "plt.plot(x,fx4, label=\"čudan tangens\")\n",
    "\n",
    "\n",
    "plt.legend()"
   ]
  }
 ],
 "metadata": {
  "kernelspec": {
   "display_name": "Python 3 (ipykernel)",
   "language": "python",
   "name": "python3"
  },
  "language_info": {
   "codemirror_mode": {
    "name": "ipython",
    "version": 3
   },
   "file_extension": ".py",
   "mimetype": "text/x-python",
   "name": "python",
   "nbconvert_exporter": "python",
   "pygments_lexer": "ipython3",
   "version": "3.9.13"
  }
 },
 "nbformat": 4,
 "nbformat_minor": 2
}
